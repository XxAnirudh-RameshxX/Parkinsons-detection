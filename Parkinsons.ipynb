{
  "nbformat": 4,
  "nbformat_minor": 0,
  "metadata": {
    "colab": {
      "name": "Parkinsons.ipynb",
      "provenance": [],
      "collapsed_sections": []
    },
    "kernelspec": {
      "name": "python3",
      "display_name": "Python 3"
    },
    "accelerator": "GPU"
  },
  "cells": [
    {
      "cell_type": "code",
      "metadata": {
        "id": "qXRxOOfpDFen"
      },
      "source": [
        "# !wget https://physionet.org/static/published-projects/gaitpdb/gait-in-parkinsons-disease-1.0.0.zip\n",
        "# !unzip /content/gait-in-parkinsons-disease-1.0.0.zip"
      ],
      "execution_count": null,
      "outputs": []
    },
    {
      "cell_type": "code",
      "metadata": {
        "id": "l3giqVqpDZT2"
      },
      "source": [
        "from sklearn.preprocessing import MinMaxScaler, StandardScaler\n",
        "from sklearn.preprocessing import LabelEncoder\n",
        "from sklearn.metrics import mean_squared_error\n",
        "from sklearn.model_selection import StratifiedShuffleSplit\n",
        "\n",
        "import tensorflow as tf\n",
        "from tensorflow import keras\n",
        "from tensorflow.keras.models import Sequential\n",
        "from tensorflow.keras.layers import Dense\n",
        "from tensorflow.keras.layers import LSTM\n",
        "from tensorflow.keras.layers import Flatten\n",
        "from tensorflow.keras.callbacks import EarlyStopping, ModelCheckpoint\n",
        "from tensorflow.keras.models import load_model\n",
        "from tensorflow.keras.layers import Dense, Dropout, Activation, Flatten, TimeDistributed\n",
        "from tensorflow.keras.layers import Conv2D, MaxPooling2D\n",
        "\n",
        "from keras.utils.training_utils import multi_gpu_model\n",
        "from keras import utils as np_utils\n",
        "\n",
        "from random import shuffle\n",
        "from tensorflow.python.client import device_lib\n",
        "\n",
        "import os\n",
        "import glob\n",
        "import pandas as pd\n",
        "import numpy as np\n",
        "import matplotlib.pyplot as plt\n",
        "import matplotlib.image as mpimg"
      ],
      "execution_count": null,
      "outputs": []
    },
    {
      "cell_type": "code",
      "metadata": {
        "id": "BBdstLk9EZh_"
      },
      "source": [
        "# !pip install keras==2.2.4"
      ],
      "execution_count": null,
      "outputs": []
    },
    {
      "cell_type": "code",
      "metadata": {
        "id": "Rrskr_CXFCDP"
      },
      "source": [
        "files = glob.glob(\"/content/parkinsons/*_??.txt\")\n",
        "shuffle(files)"
      ],
      "execution_count": null,
      "outputs": []
    },
    {
      "cell_type": "code",
      "metadata": {
        "id": "_a7NCW9vFW2L"
      },
      "source": [
        "def getClassForHealthyOrNot(filename):\n",
        "    if (filename.find(\"Co\") >=0):\n",
        "        return 0\n",
        "    else:\n",
        "        return 1"
      ],
      "execution_count": null,
      "outputs": []
    },
    {
      "cell_type": "code",
      "metadata": {
        "id": "5N0eStGZFZOI"
      },
      "source": [
        "fdf = pd.DataFrame(files)\n",
        "\n",
        "# Do note that I am using a binary classification only below, use use getClassification for all classes\n",
        "fdf['classification']  = fdf[0].map(lambda x: getClassForHealthyOrNot(x))\n",
        "\n",
        "split = StratifiedShuffleSplit(n_splits=1, test_size=0.2, random_state=1917)\n",
        "for train_index, test_index in split.split(fdf, fdf['classification']):\n",
        "    strat_train = fdf.loc[train_index]\n",
        "    strat_test  = fdf.loc[test_index]\n",
        "    \n",
        "train_files = strat_train[0].values\n",
        "test_files = strat_test[0].values"
      ],
      "execution_count": null,
      "outputs": []
    },
    {
      "cell_type": "code",
      "metadata": {
        "id": "FbN6PKZ6Ff_y",
        "outputId": "2ef1b6bc-c901-474d-d5ae-b53b04ebd35c",
        "colab": {
          "base_uri": "https://localhost:8080/",
          "height": 34
        }
      },
      "source": [
        "len(train_files), len(test_files)"
      ],
      "execution_count": null,
      "outputs": [
        {
          "output_type": "execute_result",
          "data": {
            "text/plain": [
              "(244, 62)"
            ]
          },
          "metadata": {
            "tags": []
          },
          "execution_count": 37
        }
      ]
    },
    {
      "cell_type": "code",
      "metadata": {
        "id": "q213_s55FjY_"
      },
      "source": [
        "# One-hot encoding, yes, Keras has one too, np_utils.to_categorical() - this made sense at the time\n",
        "\n",
        "def parkinsonOneHot(label, len):\n",
        "    onehot = np.zeros([len, 2])\n",
        "\n",
        "    if (label == 0):\n",
        "        onehot[:, 0] = 1\n",
        "    else:\n",
        "        onehot[:, 1] = 1\n",
        "    return onehot"
      ],
      "execution_count": null,
      "outputs": []
    },
    {
      "cell_type": "code",
      "metadata": {
        "id": "JL8zFp9aFpGs",
        "outputId": "9f0f3191-1f3b-450e-e071-7137b17c765c",
        "colab": {
          "base_uri": "https://localhost:8080/",
          "height": 34
        }
      },
      "source": [
        "# Initialize the scaler with training fileset\n",
        "\n",
        "sc = StandardScaler()\n",
        "\n",
        "def initScalerWith():\n",
        "    d = pd.DataFrame()\n",
        "    \n",
        "    for f in train_files:\n",
        "        data = pd.read_csv(f, sep='\\t')\n",
        "        data['classification'] = getClassForHealthyOrNot(f)\n",
        "        d = pd.concat([data], axis=1)\n",
        "    return d.values\n",
        "\n",
        "sc.fit(initScalerWith())"
      ],
      "execution_count": null,
      "outputs": [
        {
          "output_type": "execute_result",
          "data": {
            "text/plain": [
              "StandardScaler(copy=True, with_mean=True, with_std=True)"
            ]
          },
          "metadata": {
            "tags": []
          },
          "execution_count": 39
        }
      ]
    },
    {
      "cell_type": "code",
      "metadata": {
        "id": "9lk28n-DFsD3"
      },
      "source": [
        "# Read and label individual file\n",
        "\n",
        "def readSensorDataFromFile(f):\n",
        "    data = pd.read_csv(f, sep='\\t')\n",
        "    data['classification'] = getClassForHealthyOrNot(f)\n",
        "    return sc.transform(data.values)"
      ],
      "execution_count": null,
      "outputs": []
    },
    {
      "cell_type": "code",
      "metadata": {
        "id": "Ti77wGGnFySK"
      },
      "source": [
        "# This method produces the matrices out, I am dropping few features, so only picking the sensor readings [1:17]\n",
        "\n",
        "def produceImagesFromFile(file, image_height, offset=100):\n",
        "    r = pd.DataFrame()\n",
        "   \n",
        "    # Width is 16 pixels\n",
        "    d = readSensorDataFromFile(file)[:, 1:17]\n",
        "\n",
        "    for i in range(0, d.shape[0], offset):\n",
        "        if (i+image_height > d.shape[0]):\n",
        "            continue\n",
        "        r = pd.concat([r, pd.DataFrame(d[i:i+image_height])], axis=0)\n",
        "\n",
        "    return r.values.reshape(-1, 16, image_height, 1), getClassForHealthyOrNot(file)"
      ],
      "execution_count": null,
      "outputs": []
    },
    {
      "cell_type": "code",
      "metadata": {
        "id": "2m8lQWeTF1oP"
      },
      "source": [
        "# Python generator that produces data to be fed to the GPU. This is necessary if you do not want \n",
        "# the CPU to be the bottleneck for your computations.\n",
        "\n",
        "batch_size = 16\n",
        "image_height = 192\n",
        "\n",
        "def generate_arrays_from_file(files):\n",
        "    while 1:\n",
        "         for f in files:\n",
        "            #print(\"processing \", f)\n",
        "            x_batch, y_class = produceImagesFromFile(f, image_height=image_height)\n",
        "            y_batch = parkinsonOneHot(y_class, x_batch.shape[0])\n",
        "       \n",
        "            # Batch size defined as \"batch_size\" in the initialization\n",
        "            for i in range (0, len(x_batch), batch_size):\n",
        "                yield (x_batch[i:i+batch_size], y_batch[i:i+batch_size])"
      ],
      "execution_count": null,
      "outputs": []
    },
    {
      "cell_type": "code",
      "metadata": {
        "id": "b91BWlLXF5Y1"
      },
      "source": [
        "def count_steps_in_epoch(files, batch_size = 64, image_height = 192):\n",
        "    count = 0\n",
        "    for f in files:\n",
        "        xb, _ = produceImagesFromFile(f, image_height=image_height)\n",
        "        count = count + int(xb.shape[0] / batch_size)\n",
        "    return count"
      ],
      "execution_count": null,
      "outputs": []
    },
    {
      "cell_type": "code",
      "metadata": {
        "id": "dk-E6iTnF7tk",
        "outputId": "26df333a-3f4b-494a-e1ad-fa3a1ab29154",
        "colab": {
          "base_uri": "https://localhost:8080/",
          "height": 34
        }
      },
      "source": [
        "batch_size = 16\n",
        "image_height = 240\n",
        "\n",
        "training_set_steps_per_epoch = count_steps_in_epoch(train_files, batch_size=batch_size, image_height=image_height)\n",
        "test_set_steps_per_epoch = count_steps_in_epoch(test_files, batch_size=batch_size, image_height=image_height)\n",
        "\n",
        "a,b = next(generate_arrays_from_file(test_files))\n",
        "\n",
        "print(\"Training: \", training_set_steps_per_epoch, \" samples, testing: \", test_set_steps_per_epoch)"
      ],
      "execution_count": null,
      "outputs": [
        {
          "output_type": "stream",
          "text": [
            "Training:  1514  samples, testing:  382\n"
          ],
          "name": "stdout"
        }
      ]
    },
    {
      "cell_type": "code",
      "metadata": {
        "id": "WH31anghF-nV",
        "outputId": "f74958dd-85bd-434c-ff15-0967b894cb5e",
        "colab": {
          "base_uri": "https://localhost:8080/",
          "height": 594
        }
      },
      "source": [
        "# This is an example of what we are feeding to the convolutional network, illustrated as an image\n",
        "# but instead of the height of 240 pixels, I am showing just the first 150.\n",
        "\n",
        "plt.rcParams[\"figure.figsize\"] = (20,10)\n",
        "plt.imshow(a[1].reshape(image_height, 16)[:150, :])\n",
        "plt.show()"
      ],
      "execution_count": null,
      "outputs": [
        {
          "output_type": "display_data",
          "data": {
            "image/png": "[encoded data removed]",
            "text/plain": [
              "<Figure size 1440x720 with 1 Axes>"
            ]
          },
          "metadata": {
            "tags": [],
            "needs_background": "light"
          }
        }
      ]
    },
    {
      "cell_type": "code",
      "metadata": {
        "id": "U--rFmlVzO4L"
      },
      "source": [
        "class CustomCallback(keras.callbacks.Callback):\n",
        "  def on_epoch_end(self, epoch, logs={}):\n",
        "    if logs['val_accuracy'] >= 0.823:\n",
        "      self.model.stop_training = True"
      ],
      "execution_count": null,
      "outputs": []
    },
    {
      "cell_type": "code",
      "metadata": {
        "id": "YfNudm7gGh03",
        "outputId": "566b0a6c-50a4-453e-f2b6-7c565f816729",
        "colab": {
          "base_uri": "https://localhost:8080/",
          "height": 34
        }
      },
      "source": [
        "model = Sequential()\n",
        "model.add(Conv2D(24, (7, 7), padding='same', kernel_initializer='glorot_uniform',\n",
        "                 input_shape=a.shape[1:]))\n",
        "model.add(Activation('relu'))\n",
        "\n",
        "model.add(MaxPooling2D(pool_size=(2, 2)))\n",
        "model.add(Dropout(0.5))\n",
        "model.add(Flatten())\n",
        "model.add(Dense(2))\n",
        "model.add(Activation('softmax'))\n",
        "\n",
        "opt = keras.optimizers.RMSprop(lr=0.0001, decay=1e-6)\n",
        "\n",
        "early_stopping = EarlyStopping(monitor='val_accuracy', patience=60, verbose=1, mode='auto')\n",
        "checkpoint = ModelCheckpoint(\"./model/model_parkinsons_v0.h5\", \n",
        "                             monitor='val_accuracy', verbose=0, save_best_only=True, \n",
        "                             save_weights_only=False, mode='auto', period=1)\n",
        "\n",
        "model.compile(loss='binary_crossentropy',\n",
        "              optimizer=opt,\n",
        "              metrics=['accuracy'])"
      ],
      "execution_count": null,
      "outputs": [
        {
          "output_type": "stream",
          "text": [
            "WARNING:tensorflow:`period` argument is deprecated. Please use `save_freq` to specify the frequency in number of batches seen.\n"
          ],
          "name": "stdout"
        }
      ]
    },
    {
      "cell_type": "code",
      "metadata": {
        "id": "vwtdn6JXGqTV",
        "outputId": "072fd624-8518-45f1-ee69-0dae1d164944",
        "colab": {
          "base_uri": "https://localhost:8080/",
          "height": 386
        }
      },
      "source": [
        "model.summary()"
      ],
      "execution_count": null,
      "outputs": [
        {
          "output_type": "stream",
          "text": [
            "Model: \"sequential\"\n",
            "_________________________________________________________________\n",
            "Layer (type)                 Output Shape              Param #   \n",
            "=================================================================\n",
            "conv2d (Conv2D)              (None, 16, 240, 24)       1200      \n",
            "_________________________________________________________________\n",
            "activation (Activation)      (None, 16, 240, 24)       0         \n",
            "_________________________________________________________________\n",
            "max_pooling2d (MaxPooling2D) (None, 8, 120, 24)        0         \n",
            "_________________________________________________________________\n",
            "dropout (Dropout)            (None, 8, 120, 24)        0         \n",
            "_________________________________________________________________\n",
            "flatten (Flatten)            (None, 23040)             0         \n",
            "_________________________________________________________________\n",
            "dense (Dense)                (None, 2)                 46082     \n",
            "_________________________________________________________________\n",
            "activation_1 (Activation)    (None, 2)                 0         \n",
            "=================================================================\n",
            "Total params: 47,282\n",
            "Trainable params: 47,282\n",
            "Non-trainable params: 0\n",
            "_________________________________________________________________\n"
          ],
          "name": "stdout"
        }
      ]
    },
    {
      "cell_type": "code",
      "metadata": {
        "id": "O3tS_owpHwdp",
        "outputId": "65b63c47-b629-488b-c944-af1349e72d43",
        "colab": {
          "base_uri": "https://localhost:8080/",
          "height": 910
        }
      },
      "source": [
        "# Use the fit_generator in conjunction with use_multiprocessing=True to get more performance out\n",
        "# Do not use together with workers-parameter.\n",
        "\n",
        "history = model.fit_generator(generate_arrays_from_file(train_files), \n",
        "                    validation_data=generate_arrays_from_file(test_files),\n",
        "                    steps_per_epoch=training_set_steps_per_epoch, \n",
        "                    validation_steps=test_set_steps_per_epoch,\n",
        "                    epochs=100, \n",
        "                    shuffle=True,\n",
        "                    use_multiprocessing=True,\n",
        "                   callbacks=[early_stopping, checkpoint, CustomCallback()])"
      ],
      "execution_count": null,
      "outputs": [
        {
          "output_type": "stream",
          "text": [
            "Epoch 1/100\n",
            "WARNING:tensorflow:multiprocessing can interact badly with TensorFlow, causing nondeterministic deadlocks. For high performance data pipelines tf.data is recommended.\n",
            "1525/1532 [============================>.] - ETA: 0s - loss: 0.4498 - accuracy: 0.8802WARNING:tensorflow:multiprocessing can interact badly with TensorFlow, causing nondeterministic deadlocks. For high performance data pipelines tf.data is recommended.\n",
            "1532/1532 [==============================] - 33s 21ms/step - loss: 0.4478 - accuracy: 0.8807 - val_loss: 1.3738 - val_accuracy: 0.6946\n",
            "Epoch 2/100\n",
            "1531/1532 [============================>.] - ETA: 0s - loss: 0.4048 - accuracy: 0.8949WARNING:tensorflow:multiprocessing can interact badly with TensorFlow, causing nondeterministic deadlocks. For high performance data pipelines tf.data is recommended.\n",
            "1532/1532 [==============================] - 32s 21ms/step - loss: 0.4045 - accuracy: 0.8950 - val_loss: 1.9288 - val_accuracy: 0.6945\n",
            "Epoch 3/100\n",
            "1527/1532 [============================>.] - ETA: 0s - loss: 0.3828 - accuracy: 0.9002WARNING:tensorflow:multiprocessing can interact badly with TensorFlow, causing nondeterministic deadlocks. For high performance data pipelines tf.data is recommended.\n",
            "1532/1532 [==============================] - 32s 21ms/step - loss: 0.3819 - accuracy: 0.9005 - val_loss: 1.1011 - val_accuracy: 0.6945\n",
            "Epoch 4/100\n",
            "1532/1532 [==============================] - ETA: 0s - loss: 0.3521 - accuracy: 0.9100WARNING:tensorflow:multiprocessing can interact badly with TensorFlow, causing nondeterministic deadlocks. For high performance data pipelines tf.data is recommended.\n",
            "1532/1532 [==============================] - 32s 21ms/step - loss: 0.3521 - accuracy: 0.9100 - val_loss: 0.6190 - val_accuracy: 0.7591\n",
            "Epoch 5/100\n",
            "1527/1532 [============================>.] - ETA: 0s - loss: 0.3149 - accuracy: 0.9182WARNING:tensorflow:multiprocessing can interact badly with TensorFlow, causing nondeterministic deadlocks. For high performance data pipelines tf.data is recommended.\n",
            "1532/1532 [==============================] - 32s 21ms/step - loss: 0.3142 - accuracy: 0.9184 - val_loss: 1.1903 - val_accuracy: 0.4931\n",
            "Epoch 6/100\n",
            "1528/1532 [============================>.] - ETA: 0s - loss: 0.3300 - accuracy: 0.9164WARNING:tensorflow:multiprocessing can interact badly with TensorFlow, causing nondeterministic deadlocks. For high performance data pipelines tf.data is recommended.\n",
            "1532/1532 [==============================] - 33s 21ms/step - loss: 0.3296 - accuracy: 0.9164 - val_loss: 0.7217 - val_accuracy: 0.7491\n",
            "Epoch 7/100\n",
            "1526/1532 [============================>.] - ETA: 0s - loss: 0.3081 - accuracy: 0.9231WARNING:tensorflow:multiprocessing can interact badly with TensorFlow, causing nondeterministic deadlocks. For high performance data pipelines tf.data is recommended.\n",
            "1532/1532 [==============================] - 33s 21ms/step - loss: 0.3073 - accuracy: 0.9233 - val_loss: 1.2138 - val_accuracy: 0.4922\n",
            "Epoch 8/100\n",
            "1532/1532 [==============================] - ETA: 0s - loss: 0.3017 - accuracy: 0.9239WARNING:tensorflow:multiprocessing can interact badly with TensorFlow, causing nondeterministic deadlocks. For high performance data pipelines tf.data is recommended.\n",
            "1532/1532 [==============================] - 33s 21ms/step - loss: 0.3017 - accuracy: 0.9239 - val_loss: 0.9961 - val_accuracy: 0.7364\n",
            "Epoch 9/100\n",
            "1528/1532 [============================>.] - ETA: 0s - loss: 0.3023 - accuracy: 0.9246WARNING:tensorflow:multiprocessing can interact badly with TensorFlow, causing nondeterministic deadlocks. For high performance data pipelines tf.data is recommended.\n",
            "1532/1532 [==============================] - 33s 21ms/step - loss: 0.3027 - accuracy: 0.9243 - val_loss: 0.9189 - val_accuracy: 0.5715\n",
            "Epoch 10/100\n",
            "1525/1532 [============================>.] - ETA: 0s - loss: 0.2909 - accuracy: 0.9300WARNING:tensorflow:multiprocessing can interact badly with TensorFlow, causing nondeterministic deadlocks. For high performance data pipelines tf.data is recommended.\n",
            "1532/1532 [==============================] - 32s 21ms/step - loss: 0.2913 - accuracy: 0.9298 - val_loss: 1.7328 - val_accuracy: 0.4163\n",
            "Epoch 11/100\n",
            "1526/1532 [============================>.] - ETA: 0s - loss: 0.2958 - accuracy: 0.9283WARNING:tensorflow:multiprocessing can interact badly with TensorFlow, causing nondeterministic deadlocks. For high performance data pipelines tf.data is recommended.\n",
            "1532/1532 [==============================] - 33s 21ms/step - loss: 0.2946 - accuracy: 0.9286 - val_loss: 1.4888 - val_accuracy: 0.6948\n",
            "Epoch 12/100\n",
            "1531/1532 [============================>.] - ETA: 0s - loss: 0.2885 - accuracy: 0.9300WARNING:tensorflow:multiprocessing can interact badly with TensorFlow, causing nondeterministic deadlocks. For high performance data pipelines tf.data is recommended.\n",
            "1532/1532 [==============================] - 33s 22ms/step - loss: 0.2891 - accuracy: 0.9296 - val_loss: 0.4876 - val_accuracy: 0.7959\n",
            "Epoch 13/100\n",
            "1526/1532 [============================>.] - ETA: 0s - loss: 0.2809 - accuracy: 0.9299WARNING:tensorflow:multiprocessing can interact badly with TensorFlow, causing nondeterministic deadlocks. For high performance data pipelines tf.data is recommended.\n",
            "1532/1532 [==============================] - 33s 22ms/step - loss: 0.2797 - accuracy: 0.9302 - val_loss: 1.2144 - val_accuracy: 0.7188\n",
            "Epoch 14/100\n",
            "1530/1532 [============================>.] - ETA: 0s - loss: 0.2938 - accuracy: 0.9285WARNING:tensorflow:multiprocessing can interact badly with TensorFlow, causing nondeterministic deadlocks. For high performance data pipelines tf.data is recommended.\n",
            "1532/1532 [==============================] - 33s 22ms/step - loss: 0.2935 - accuracy: 0.9286 - val_loss: 2.5082 - val_accuracy: 0.3816\n",
            "Epoch 15/100\n",
            "1525/1532 [============================>.] - ETA: 0s - loss: 0.2717 - accuracy: 0.9348WARNING:tensorflow:multiprocessing can interact badly with TensorFlow, causing nondeterministic deadlocks. For high performance data pipelines tf.data is recommended.\n",
            "1532/1532 [==============================] - 33s 22ms/step - loss: 0.2705 - accuracy: 0.9351 - val_loss: 2.1381 - val_accuracy: 0.6961\n",
            "Epoch 16/100\n",
            "1527/1532 [============================>.] - ETA: 0s - loss: 0.2899 - accuracy: 0.9316WARNING:tensorflow:multiprocessing can interact badly with TensorFlow, causing nondeterministic deadlocks. For high performance data pipelines tf.data is recommended.\n",
            "1532/1532 [==============================] - 33s 22ms/step - loss: 0.2889 - accuracy: 0.9318 - val_loss: 1.1567 - val_accuracy: 0.5496\n",
            "Epoch 17/100\n",
            "1531/1532 [============================>.] - ETA: 0s - loss: 0.2817 - accuracy: 0.9340WARNING:tensorflow:multiprocessing can interact badly with TensorFlow, causing nondeterministic deadlocks. For high performance data pipelines tf.data is recommended.\n",
            "1532/1532 [==============================] - 33s 22ms/step - loss: 0.2828 - accuracy: 0.9336 - val_loss: 0.4098 - val_accuracy: 0.8522\n"
          ],
          "name": "stdout"
        }
      ]
    },
    {
      "cell_type": "code",
      "metadata": {
        "id": "IPThDce7Xem8"
      },
      "source": [
        "new_model = load_model('/content/drive/My Drive/parkinsons.h5')"
      ],
      "execution_count": null,
      "outputs": []
    },
    {
      "cell_type": "code",
      "metadata": {
        "id": "XJTLtct-u5UG",
        "outputId": "10ad3587-c5ff-410d-a268-7c80bc81d69c",
        "colab": {
          "base_uri": "https://localhost:8080/",
          "height": 386
        }
      },
      "source": [
        "new_model.summary()"
      ],
      "execution_count": null,
      "outputs": [
        {
          "output_type": "stream",
          "text": [
            "Model: \"sequential_1\"\n",
            "_________________________________________________________________\n",
            "Layer (type)                 Output Shape              Param #   \n",
            "=================================================================\n",
            "conv2d_1 (Conv2D)            (None, 16, 240, 24)       1200      \n",
            "_________________________________________________________________\n",
            "activation_2 (Activation)    (None, 16, 240, 24)       0         \n",
            "_________________________________________________________________\n",
            "max_pooling2d_1 (MaxPooling2 (None, 8, 120, 24)        0         \n",
            "_________________________________________________________________\n",
            "dropout_1 (Dropout)          (None, 8, 120, 24)        0         \n",
            "_________________________________________________________________\n",
            "flatten_1 (Flatten)          (None, 23040)             0         \n",
            "_________________________________________________________________\n",
            "dense_1 (Dense)              (None, 2)                 46082     \n",
            "_________________________________________________________________\n",
            "activation_3 (Activation)    (None, 2)                 0         \n",
            "=================================================================\n",
            "Total params: 47,282\n",
            "Trainable params: 47,282\n",
            "Non-trainable params: 0\n",
            "_________________________________________________________________\n"
          ],
          "name": "stdout"
        }
      ]
    },
    {
      "cell_type": "code",
      "metadata": {
        "id": "t1UfC3CTu7RT"
      },
      "source": [
        "n_park = 0\n",
        "n_control = 0\n",
        "\n",
        "for f in test_files:\n",
        "    if (f.find(\"Co\") > 0):\n",
        "        n_control += 1\n",
        "    else:\n",
        "        n_park += 1"
      ],
      "execution_count": null,
      "outputs": []
    },
    {
      "cell_type": "code",
      "metadata": {
        "id": "0wbHg_5bvIfP",
        "outputId": "844cf4fe-558d-4e9f-8d05-3b3044991a70",
        "colab": {
          "base_uri": "https://localhost:8080/",
          "height": 34
        }
      },
      "source": [
        "n_control, n_park"
      ],
      "execution_count": null,
      "outputs": [
        {
          "output_type": "execute_result",
          "data": {
            "text/plain": [
              "(19, 43)"
            ]
          },
          "metadata": {
            "tags": []
          },
          "execution_count": 29
        }
      ]
    },
    {
      "cell_type": "code",
      "metadata": {
        "id": "ExoWb649vK4E",
        "outputId": "5d508f96-092a-4b50-b71a-9b0c55be2564",
        "colab": {
          "base_uri": "https://localhost:8080/",
          "height": 1000
        }
      },
      "source": [
        "correct = 0\n",
        "incorrect = 0\n",
        "\n",
        "true_y = []\n",
        "predicted_y = []\n",
        "\n",
        "for f in test_files:\n",
        "    d_x, label = produceImagesFromFile(file=f, image_height=240)\n",
        "    \n",
        "    predictions = model.predict_classes(d_x)\n",
        "    \n",
        "    predict_distribution = pd.Series(predictions).value_counts()\n",
        "    predictClass = predict_distribution.idxmax()\n",
        "    \n",
        "    true_y.append(label)\n",
        "    predicted_y.append(predictClass)\n",
        "    \n",
        "    if (label == predictClass):\n",
        "        prediction_text = \"correct\"\n",
        "        correct += 1\n",
        "    else:\n",
        "        prediction_text = \"incorrect (vote distribution: %s)\" % (predict_distribution.values)\n",
        "        incorrect += 1\n",
        "\n",
        "    output = (\"prediction was %s for %s\") % (prediction_text, os.path.basename(f))\n",
        "    print(output)\n",
        "\n",
        "print((\"Number of samples: %d, %d correct, %d incorrect.\") % \n",
        "    (correct+incorrect, correct, incorrect))\n",
        "print('accuracy = ' + str((correct / (correct + incorrect) * 100)))"
      ],
      "execution_count": null,
      "outputs": [
        {
          "output_type": "stream",
          "text": [
            "prediction was incorrect (vote distribution: [39]) for JuCo03_01.txt\n",
            "prediction was correct for GaCo17_10.txt\n",
            "prediction was correct for JuPt17_01.txt\n",
            "prediction was correct for JuPt21_06.txt\n",
            "prediction was incorrect (vote distribution: [68 51]) for SiPt31_01.txt\n",
            "prediction was incorrect (vote distribution: [117   2]) for GaPt21_02.txt\n",
            "prediction was correct for JuPt01_03.txt\n",
            "prediction was correct for JuPt20_04.txt\n",
            "prediction was correct for JuCo23_01.txt\n",
            "prediction was correct for JuPt20_02.txt\n",
            "prediction was correct for JuPt06_07.txt\n",
            "prediction was incorrect (vote distribution: [118   1]) for SiCo28_01.txt\n",
            "prediction was correct for GaPt20_01.txt\n",
            "prediction was incorrect (vote distribution: [53]) for JuPt02_01.txt\n",
            "prediction was incorrect (vote distribution: [119]) for GaPt24_10.txt\n",
            "prediction was incorrect (vote distribution: [119]) for GaPt15_02.txt\n",
            "prediction was incorrect (vote distribution: [116   3]) for SiCo14_01.txt\n",
            "prediction was correct for GaPt09_01.txt\n",
            "prediction was incorrect (vote distribution: [69 50]) for SiPt14_01.txt\n",
            "prediction was incorrect (vote distribution: [119]) for GaPt21_10.txt\n",
            "prediction was incorrect (vote distribution: [92 27]) for GaPt29_10.txt\n",
            "prediction was correct for JuPt20_06.txt\n",
            "prediction was incorrect (vote distribution: [111   8]) for GaCo12_01.txt\n",
            "prediction was correct for JuPt10_06.txt\n",
            "prediction was correct for GaCo05_01.txt\n",
            "prediction was correct for GaPt31_02.txt\n",
            "prediction was correct for JuPt11_06.txt\n",
            "prediction was correct for SiCo13_01.txt\n",
            "prediction was correct for GaPt16_02.txt\n",
            "prediction was incorrect (vote distribution: [83  2]) for JuPt28_05.txt\n",
            "prediction was correct for JuPt15_01.txt\n",
            "prediction was incorrect (vote distribution: [119]) for SiCo16_01.txt\n",
            "prediction was correct for JuPt06_01.txt\n",
            "prediction was incorrect (vote distribution: [119]) for GaPt18_02.txt\n",
            "prediction was incorrect (vote distribution: [115   4]) for GaPt26_01.txt\n",
            "prediction was correct for GaPt22_10.txt\n",
            "prediction was incorrect (vote distribution: [71  7]) for JuCo07_01.txt\n",
            "prediction was correct for SiCo20_01.txt\n",
            "prediction was incorrect (vote distribution: [95 10]) for JuCo20_01.txt\n",
            "prediction was correct for GaCo06_01.txt\n",
            "prediction was incorrect (vote distribution: [119]) for SiPt18_01.txt\n",
            "prediction was incorrect (vote distribution: [119]) for GaPt15_01.txt\n",
            "prediction was correct for GaCo09_02.txt\n",
            "prediction was incorrect (vote distribution: [119]) for GaPt23_02.txt\n",
            "prediction was incorrect (vote distribution: [111   8]) for SiPt08_01.txt\n",
            "prediction was correct for JuPt09_04.txt\n",
            "prediction was incorrect (vote distribution: [116   3]) for SiPt34_01.txt\n",
            "prediction was incorrect (vote distribution: [104  15]) for SiCo27_01.txt\n",
            "prediction was correct for GaPt30_02.txt\n",
            "prediction was correct for JuPt10_05.txt\n",
            "prediction was correct for JuPt06_04.txt\n",
            "prediction was incorrect (vote distribution: [119]) for SiPt23_01.txt\n",
            "prediction was correct for JuPt22_01.txt\n",
            "prediction was incorrect (vote distribution: [80]) for JuPt29_03.txt\n",
            "prediction was correct for JuPt10_01.txt\n",
            "prediction was correct for JuPt12_01.txt\n",
            "prediction was incorrect (vote distribution: [118   1]) for SiCo24_01.txt\n",
            "prediction was correct for SiCo22_01.txt\n",
            "prediction was correct for GaCo08_01.txt\n",
            "prediction was incorrect (vote distribution: [106  13]) for SiCo21_01.txt\n",
            "prediction was incorrect (vote distribution: [119]) for SiPt16_01.txt\n",
            "prediction was incorrect (vote distribution: [119]) for GaPt24_01.txt\n",
            "Number of samples: 62, 32 correct, 30 incorrect.\n",
            "accuracy = 51.61290322580645\n"
          ],
          "name": "stdout"
        }
      ]
    },
    {
      "cell_type": "code",
      "metadata": {
        "id": "xqkc228avO2a",
        "outputId": "e6371e60-37d7-4c07-ae23-3d2f7b602608",
        "colab": {
          "base_uri": "https://localhost:8080/",
          "height": 67
        }
      },
      "source": [
        "from sklearn.metrics import recall_score, f1_score, precision_score\n",
        "recall = recall_score(true_y, predicted_y)\n",
        "precision = precision_score(true_y, predicted_y)\n",
        "f1 = f1_score(true_y, predicted_y)\n",
        "\n",
        "print('Recall score: {0:0.2f}'.format(recall))\n",
        "print('Precision score: {0:0.2f}'.format(precision))\n",
        "print('F1-score: {0:0.2f}'.format(precision))"
      ],
      "execution_count": null,
      "outputs": [
        {
          "output_type": "stream",
          "text": [
            "Recall score: 0.98\n",
            "Precision score: 0.89\n",
            "F1-score: 0.89\n"
          ],
          "name": "stdout"
        }
      ]
    },
    {
      "cell_type": "code",
      "metadata": {
        "id": "MI5mSp2WvZkH"
      },
      "source": [
        "model.save('/content/drive/My Drive/parkinsons.h5')"
      ],
      "execution_count": null,
      "outputs": []
    },
    {
      "cell_type": "code",
      "metadata": {
        "id": "iTky81b-xrAT",
        "outputId": "4a3f4d7b-da4e-4087-d3a0-ea40491d9835",
        "colab": {
          "base_uri": "https://localhost:8080/",
          "height": 1000
        }
      },
      "source": [
        "test_files"
      ],
      "execution_count": null,
      "outputs": [
        {
          "output_type": "execute_result",
          "data": {
            "text/plain": [
              "array(['/content/parkinsons/JuCo03_01.txt',\n",
              "       '/content/parkinsons/GaCo17_10.txt',\n",
              "       '/content/parkinsons/JuPt17_01.txt',\n",
              "       '/content/parkinsons/JuPt21_06.txt',\n",
              "       '/content/parkinsons/SiPt31_01.txt',\n",
              "       '/content/parkinsons/GaPt21_02.txt',\n",
              "       '/content/parkinsons/JuPt01_03.txt',\n",
              "       '/content/parkinsons/JuPt20_04.txt',\n",
              "       '/content/parkinsons/JuCo23_01.txt',\n",
              "       '/content/parkinsons/JuPt20_02.txt',\n",
              "       '/content/parkinsons/JuPt06_07.txt',\n",
              "       '/content/parkinsons/SiCo28_01.txt',\n",
              "       '/content/parkinsons/GaPt20_01.txt',\n",
              "       '/content/parkinsons/JuPt02_01.txt',\n",
              "       '/content/parkinsons/GaPt24_10.txt',\n",
              "       '/content/parkinsons/GaPt15_02.txt',\n",
              "       '/content/parkinsons/SiCo14_01.txt',\n",
              "       '/content/parkinsons/GaPt09_01.txt',\n",
              "       '/content/parkinsons/SiPt14_01.txt',\n",
              "       '/content/parkinsons/GaPt21_10.txt',\n",
              "       '/content/parkinsons/GaPt29_10.txt',\n",
              "       '/content/parkinsons/JuPt20_06.txt',\n",
              "       '/content/parkinsons/GaCo12_01.txt',\n",
              "       '/content/parkinsons/JuPt10_06.txt',\n",
              "       '/content/parkinsons/GaCo05_01.txt',\n",
              "       '/content/parkinsons/GaPt31_02.txt',\n",
              "       '/content/parkinsons/JuPt11_06.txt',\n",
              "       '/content/parkinsons/SiCo13_01.txt',\n",
              "       '/content/parkinsons/GaPt16_02.txt',\n",
              "       '/content/parkinsons/JuPt28_05.txt',\n",
              "       '/content/parkinsons/JuPt15_01.txt',\n",
              "       '/content/parkinsons/SiCo16_01.txt',\n",
              "       '/content/parkinsons/JuPt06_01.txt',\n",
              "       '/content/parkinsons/GaPt18_02.txt',\n",
              "       '/content/parkinsons/GaPt26_01.txt',\n",
              "       '/content/parkinsons/GaPt22_10.txt',\n",
              "       '/content/parkinsons/JuCo07_01.txt',\n",
              "       '/content/parkinsons/SiCo20_01.txt',\n",
              "       '/content/parkinsons/JuCo20_01.txt',\n",
              "       '/content/parkinsons/GaCo06_01.txt',\n",
              "       '/content/parkinsons/SiPt18_01.txt',\n",
              "       '/content/parkinsons/GaPt15_01.txt',\n",
              "       '/content/parkinsons/GaCo09_02.txt',\n",
              "       '/content/parkinsons/GaPt23_02.txt',\n",
              "       '/content/parkinsons/SiPt08_01.txt',\n",
              "       '/content/parkinsons/JuPt09_04.txt',\n",
              "       '/content/parkinsons/SiPt34_01.txt',\n",
              "       '/content/parkinsons/SiCo27_01.txt',\n",
              "       '/content/parkinsons/GaPt30_02.txt',\n",
              "       '/content/parkinsons/JuPt10_05.txt',\n",
              "       '/content/parkinsons/JuPt06_04.txt',\n",
              "       '/content/parkinsons/SiPt23_01.txt',\n",
              "       '/content/parkinsons/JuPt22_01.txt',\n",
              "       '/content/parkinsons/JuPt29_03.txt',\n",
              "       '/content/parkinsons/JuPt10_01.txt',\n",
              "       '/content/parkinsons/JuPt12_01.txt',\n",
              "       '/content/parkinsons/SiCo24_01.txt',\n",
              "       '/content/parkinsons/SiCo22_01.txt',\n",
              "       '/content/parkinsons/GaCo08_01.txt',\n",
              "       '/content/parkinsons/SiCo21_01.txt',\n",
              "       '/content/parkinsons/SiPt16_01.txt',\n",
              "       '/content/parkinsons/GaPt24_01.txt'], dtype=object)"
            ]
          },
          "metadata": {
            "tags": []
          },
          "execution_count": 50
        }
      ]
    }
  ]
}